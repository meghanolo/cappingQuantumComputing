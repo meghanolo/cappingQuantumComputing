{
 "cells": [
  {
   "cell_type": "code",
   "execution_count": 16,
   "id": "78ea6894-0d31-47b0-94eb-fc7f688c0bad",
   "metadata": {},
   "outputs": [
    {
     "name": "stdout",
     "output_type": "stream",
     "text": [
      "[[0. 2. 2. 1. 1. 2. 2. 2. 1. 2. 2. 2. 2. 0.]\n",
      " [2. 0. 0. 0. 0. 2. 2. 0. 0. 0. 0. 2. 0. 0.]\n",
      " [2. 0. 0. 0. 0. 0. 0. 2. 0. 2. 0. 0. 2. 0.]\n",
      " [1. 0. 0. 0. 0. 0. 0. 0. 1. 0. 0. 0. 0. 0.]\n",
      " [1. 0. 0. 0. 0. 0. 0. 0. 0. 0. 1. 0. 0. 0.]\n",
      " [2. 2. 0. 0. 0. 0. 0. 0. 0. 0. 0. 0. 0. 0.]\n",
      " [2. 2. 0. 0. 0. 0. 0. 0. 0. 0. 0. 0. 0. 0.]\n",
      " [2. 0. 2. 0. 0. 0. 0. 0. 0. 0. 0. 0. 0. 0.]\n",
      " [1. 0. 0. 1. 0. 0. 0. 0. 0. 0. 0. 0. 0. 0.]\n",
      " [2. 0. 2. 0. 0. 0. 0. 0. 0. 0. 0. 0. 0. 0.]\n",
      " [2. 0. 0. 0. 1. 0. 0. 0. 0. 0. 0. 0. 0. 0.]\n",
      " [2. 2. 0. 0. 0. 0. 0. 0. 0. 0. 0. 0. 0. 0.]\n",
      " [2. 0. 2. 0. 0. 0. 0. 0. 0. 0. 0. 0. 0. 0.]\n",
      " [0. 0. 0. 0. 0. 0. 0. 0. 0. 0. 0. 0. 0. 0.]]\n",
      "\n",
      "Best solution = [1, 1, 1, 0, 0, 0, 0, 0, 0, 0, 0, 0, 0, 0] cost = 29.0\n"
     ]
    },
    {
     "data": {
      "image/png": "[encoded data removed]",
      "text/plain": [
       "<Figure size 432x288 with 2 Axes>"
      ]
     },
     "metadata": {},
     "output_type": "display_data"
    }
   ],
   "source": [
    "import numpy as np\n",
    "import networkx as nx\n",
    "import matplotlib.pyplot as plt\n",
    "\n",
    "# Generating a graph of 4 nodes\n",
    "\n",
    "n=14 # Number of nodes in graph\n",
    "x=2\n",
    "G=nx.Graph()\n",
    "G.add_nodes_from(np.arange(0,n,1))\n",
    "elist=[(0,1,x),(0,5,x),(0,9,x),(0,2,x),(0,6,x),(0,10,x),(0,3,1),(0,7,x),(0,11,x),(0,4,1),(0,8,1),(0,11,x),(0,4,1),(0,8,1),(0,12,x),(1,5,x),(1,6,x),(1,11,x),(2,7,x),(2,9,x),(2,12,x),(3,8,1),(4,10,1)]\n",
    "G.add_weighted_edges_from(elist)\n",
    "\n",
    "colors = ['r' for node in G.nodes()]\n",
    "pos = nx.spring_layout(G)\n",
    "\n",
    "def draw_graph(G, colors, pos):\n",
    "    default_axes = plt.axes(frameon=True)\n",
    "    nx.draw_networkx(G, node_color=colors, node_size=600, alpha=.8, ax=default_axes, pos=pos)\n",
    "    edge_labels = nx.get_edge_attributes(G, 'weight')\n",
    "    nx.draw_networkx_edge_labels(G, pos=pos, edge_labels=edge_labels)\n",
    "\n",
    "draw_graph(G, colors, pos)\n",
    "\n",
    "# Computing the weight matrix from the random graph\n",
    "w = np.zeros([n,n])\n",
    "for i in range(n):\n",
    "    for j in range(n):\n",
    "        temp = G.get_edge_data(i,j,default=0)\n",
    "        if temp != 0:\n",
    "            w[i,j] = temp['weight']\n",
    "print(w)\n",
    "\n",
    "best_cost_brute = 0\n",
    "for b in range(2**n):\n",
    "    x = [int(t) for t in reversed(list(bin(b)[2:].zfill(n)))]\n",
    "    cost = 0\n",
    "    for i in range(n):\n",
    "        for j in range(n):\n",
    "            cost = cost + w[i,j]*x[i]*(1-x[j])\n",
    "    if best_cost_brute < cost:\n",
    "        best_cost_brute = cost\n",
    "        xbest_brute = x\n",
    "   # print('case = ' + str(x)+ ' cost = ' + str(cost))\n",
    "\n",
    "colors = ['r' if xbest_brute[i] == 0 else 'c' for i in range(n)]\n",
    "draw_graph(G, colors, pos)\n",
    "print('\\nBest solution = ' + str(xbest_brute) + ' cost = ' + str(best_cost_brute))"
   ]
  },
  {
   "cell_type": "markdown",
   "id": "8eec6e9f-9cd3-48b6-b54e-b4dd75e925bc",
   "metadata": {
    "tags": []
   },
   "source": [
    "## Variation Quantum Eigensolver\n",
    "\n",
    "Source: https://qiskit.org/documentation/optimization/tutorials/06_examples_max_cut_and_tsp.html\n",
    "\n",
    "Some helpful documentation link:\n",
    "  * https://qiskit.org/documentation/stubs/qiskit.algorithms.VQE.html#qiskit.algorithms.VQE"
   ]
  },
  {
   "cell_type": "code",
   "execution_count": null,
   "id": "8d92d32e-4d7d-412c-955a-2edb1bab8da1",
   "metadata": {},
   "outputs": [],
   "source": [
    "from qiskit import Aer\n",
    "from qiskit.tools.visualization import plot_histogram\n",
    "from qiskit.circuit.library import TwoLocal\n",
    "from qiskit_optimization.applications import Maxcut, Tsp\n",
    "from qiskit.algorithms import VQE, NumPyMinimumEigensolver\n",
    "from qiskit.algorithms.optimizers import SPSA\n",
    "from qiskit.utils import algorithm_globals, QuantumInstance\n",
    "from qiskit_optimization.algorithms import MinimumEigenOptimizer\n",
    "\n",
    "# Define our Qiskit Maxcut Instance\n",
    "max_cut = Maxcut(w)\n",
    "qp = max_cut.to_quadratic_program()\n",
    "\n",
    "# Translate to Ising Hamiltonian\n",
    "qubitOp, offset = qp.to_ising()\n",
    "\n",
    "# Setup our simulator\n",
    "algorithm_globals.random_seed = 123\n",
    "seed = 10598\n",
    "backend = Aer.get_backend('aer_simulator_statevector')\n",
    "quantum_instance = QuantumInstance(backend, seed_simulator=seed, seed_transpiler=seed)\n",
    "\n",
    "# Construct VQE\n",
    "spsa = SPSA(maxiter=300)\n",
    "ry = TwoLocal(qubitOp.num_qubits, 'ry', 'cz', reps=5, entanglement='linear')\n",
    "vqe = VQE(ry, optimizer=spsa, quantum_instance=quantum_instance)\n",
    "\n",
    "# Run VQE\n",
    "result = vqe.compute_minimum_eigenvalue(qubitOp)\n",
    "\n",
    "# print results\n",
    "x = max_cut.sample_most_likely(result.eigenstate)\n",
    "print('energy:', result.eigenvalue.real)\n",
    "print('time:', result.optimizer_time)\n",
    "print('max-cut objective:', result.eigenvalue.real + offset)\n",
    "print('solution:', x)\n",
    "print('solution objective:', qp.objective.evaluate(x))\n",
    "\n",
    "# plot results\n",
    "colors = ['r' if x[i] == 0 else 'c' for i in range(n)]\n",
    "draw_graph(G, colors, pos)"
   ]
  },
  {
   "cell_type": "markdown",
   "id": "dade1d99-a4b5-4eb4-be28-410f0d455534",
   "metadata": {
    "tags": []
   },
   "source": [
    "## VQE Circuit"
   ]
  },
  {
   "cell_type": "code",
   "execution_count": 8,
   "id": "c3516675-d16e-478d-b6bc-e221c58f298b",
   "metadata": {
    "tags": []
   },
   "outputs": [
    {
     "name": "stdout",
     "output_type": "stream",
     "text": [
      "Traceback \u001b[1;36m(most recent call last)\u001b[0m:\n",
      "\u001b[1;36m  Input \u001b[1;32mIn [8]\u001b[1;36m in \u001b[1;35m<cell line: 4>\u001b[1;36m\u001b[0m\n",
      "\u001b[1;33m    optimal_qc = vqe.get_optimal_circuit()\u001b[0m\n",
      "\u001b[1;31mAttributeError\u001b[0m\u001b[1;31m:\u001b[0m 'VQE' object has no attribute 'get_optimal_circuit'\n",
      "\n",
      "Use %tb to get the full traceback.\n"
     ]
    },
    {
     "data": {
      "text/html": [
       "\n",
       "<style>\n",
       ".button {\n",
       "  border: none;\n",
       "  color: white;\n",
       "  padding: 4px 8px;\n",
       "  text-align: center;\n",
       "  text-decoration: none;\n",
       "  display: inline-block;\n",
       "  font-size: 12px;\n",
       "  margin: 4px 2px;\n",
       "  transition-duration: 0.2s;\n",
       "  cursor: pointer;\n",
       "}\n",
       ".iqx-button {\n",
       "  background-color: #0f62fe; \n",
       "  color: white; \n",
       "}\n",
       ".iqx-button:hover {\n",
       "  background-color: #0043ce;\n",
       "  color: white;\n",
       "}\n",
       "</style>\n",
       "<a href=\"https://stackoverflow.com/search?q=AttributeError: 'VQE' object has no attribute 'get_optimal_circuit'\" target='_blank'><button class='button iqx-button'>Search for solution online</button></a>\n"
      ],
      "text/plain": [
       "<IPython.core.display.HTML object>"
      ]
     },
     "metadata": {},
     "output_type": "display_data"
    }
   ],
   "source": [
    "from ibm_quantum_widgets import CircuitComposer\n",
    "from qiskit import QuantumRegister, ClassicalRegister, QuantumCircuit\n",
    "\n",
    "optimal_qc = vqe.get_optimal_circuit()\n",
    "editor = CircuitComposer(circuit=optimal_qc)\n",
    "editor"
   ]
  },
  {
   "cell_type": "code",
   "execution_count": null,
   "id": "560a4627-bd47-46aa-b82a-d91a18edc451",
   "metadata": {},
   "outputs": [],
   "source": [
    "# This code is being generated automatically by the IBM Quantum Circuit Composer widget.\n",
    "# It changes in every update of the widget, so any modifications done in this cell will be lost.\n",
    "# State: synchronized\n",
    "\n",
    "# Attention:\n",
    "# ----------\n",
    "# Custom gates are not supported yet in version v2.0.18\n",
    "# Find following an equivalent qasm based circuit:\n",
    "from qiskit import QuantumCircuit\n",
    "qasm = \"\"\"\n",
    "OPENQASM 2.0;\n",
    "include \"qelib1.inc\";\n",
    "gate woLocal(param0, param1, param2, param3, param4, param5, param6, param7, param8, param9, param10, param11, param12, param13, param14, param15, param16, param17, param18, param19, param20, param21, param22, param23, param24, param25, param26, param27, param28, param29) q0, q1, q2, q3, q4 {\n",
    "  ry(4.17547467622234) q0;\n",
    "  ry(-6.28821176436223) q1;\n",
    "  ry(-1.40486327346273) q2;\n",
    "  ry(-1.65761619691524) q3;\n",
    "  ry(-6.14158138762570) q4;\n",
    "  cz q0, q1;\n",
    "  cz q1, q2;\n",
    "  cz q2, q3;\n",
    "  cz q3, q4;\n",
    "  ry(5.73372000866355) q0;\n",
    "  ry(4.44984240828826) q1;\n",
    "  ry(-2.16630455123368) q2;\n",
    "  ry(5.25310273616428) q3;\n",
    "  ry(6.60377416164812) q4;\n",
    "  cz q0, q1;\n",
    "  cz q1, q2;\n",
    "  cz q2, q3;\n",
    "  cz q3, q4;\n",
    "  ry(-3.02596698749212) q0;\n",
    "  ry(-5.23189687300101) q1;\n",
    "  ry(4.40282278376381) q2;\n",
    "  ry(-1.59837998872848) q3;\n",
    "  ry(4.87056597878950) q4;\n",
    "  cz q0, q1;\n",
    "  cz q1, q2;\n",
    "  cz q2, q3;\n",
    "  cz q3, q4;\n",
    "  ry(0.292183299692795) q0;\n",
    "  ry(4.66344709704271) q1;\n",
    "  ry(-2.75794041871292) q2;\n",
    "  ry(6.36851929306560) q3;\n",
    "  ry(1.97367616622618) q4;\n",
    "  cz q0, q1;\n",
    "  cz q1, q2;\n",
    "  cz q2, q3;\n",
    "  cz q3, q4;\n",
    "  ry(-2.59972754332686) q0;\n",
    "  ry(-6.34598189366981) q1;\n",
    "  ry(-1.63846773063449) q2;\n",
    "  ry(-0.414504994387513) q3;\n",
    "  ry(-5.76970867997880) q4;\n",
    "  cz q0, q1;\n",
    "  cz q1, q2;\n",
    "  cz q2, q3;\n",
    "  cz q3, q4;\n",
    "  ry(-7.15380384732267) q0;\n",
    "  ry(-0.901232949916589) q1;\n",
    "  ry(-0.606527349276767) q2;\n",
    "  ry(3.11855267646828) q3;\n",
    "  ry(-1.11874403569820) q4;\n",
    "}\n",
    "\n",
    "qreg q[5];\n",
    "\n",
    "woLocal(4.17547467622234,-6.28821176436223,-1.40486327346273,-1.65761619691524,-6.14158138762570,5.73372000866355,4.44984240828826,-2.16630455123368,5.25310273616428,6.60377416164812,-3.02596698749212,-5.23189687300101,4.40282278376381,-1.59837998872848,4.87056597878950,0.292183299692795,4.66344709704271,-2.75794041871292,6.36851929306560,1.97367616622618,-2.59972754332686,-6.34598189366981,-1.63846773063449,-0.414504994387513,-5.76970867997880,-7.15380384732267,-0.901232949916589,-0.606527349276767,3.11855267646828,-1.11874403569820) q[0],q[1],q[2],q[3],q[4];\n",
    "\"\"\"\n",
    "circuit = QuantumCircuit.from_qasm_str(qasm)"
   ]
  },
  {
   "cell_type": "markdown",
   "id": "711a97a8-75c2-49cd-b58c-52967b23df5d",
   "metadata": {},
   "source": [
    "### EigenOptimizer Check"
   ]
  },
  {
   "cell_type": "code",
   "execution_count": 3,
   "id": "adfb0d4f-d901-4379-8161-bc4fb70cdf02",
   "metadata": {},
   "outputs": [
    {
     "name": "stdout",
     "output_type": "stream",
     "text": [
      "optimal function value: 17.0\n",
      "optimal value: [1. 0. 1. 1. 0.]\n",
      "status: SUCCESS\n"
     ]
    },
    {
     "data": {
      "image/png": "[encoded data removed]",
      "text/plain": [
       "<Figure size 432x288 with 1 Axes>"
      ]
     },
     "metadata": {},
     "output_type": "display_data"
    }
   ],
   "source": [
    "# create minimum eigen optimizer based on VQE\n",
    "vqe_optimizer = MinimumEigenOptimizer(vqe)\n",
    "\n",
    "# solve quadratic program\n",
    "result = vqe_optimizer.solve(qp)\n",
    "print(result)\n",
    "\n",
    "colors = ['r' if result.x[i] == 0 else 'c' for i in range(n)]\n",
    "draw_graph(G, colors, pos)"
   ]
  }
 ],
 "metadata": {
  "kernelspec": {
   "display_name": "Python 3 (ipykernel)",
   "language": "python",
   "name": "python3"
  },
  "language_info": {
   "codemirror_mode": {
    "name": "ipython",
    "version": 3
   },
   "file_extension": ".py",
   "mimetype": "text/x-python",
   "name": "python",
   "nbconvert_exporter": "python",
   "pygments_lexer": "ipython3",
   "version": "3.8.13"
  },
  "widgets": {
   "application/vnd.jupyter.widget-state+json": {
    "state": {},
    "version_major": 2,
    "version_minor": 0
   }
  }
 },
 "nbformat": 4,
 "nbformat_minor": 5
}
