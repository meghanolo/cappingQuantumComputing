{
 "cells": [
  {
   "cell_type": "code",
   "execution_count": 1,
   "id": "413f75f7",
   "metadata": {},
   "outputs": [],
   "source": [
    "import numpy as np\n",
    "# Importing standard Qiskit libraries\n",
    "from qiskit import QuantumCircuit, transpile, Aer, IBMQ\n",
    "from qiskit.tools.jupyter import *\n",
    "from qiskit.visualization import *\n",
    "from ibm_quantum_widgets import *\n",
    "\n",
    "# Loading your IBM Quantum account(s)\n",
    "provider = IBMQ.load_account()"
   ]
  },
  {
   "cell_type": "code",
   "execution_count": 2,
   "id": "936ecdd6",
   "metadata": {},
   "outputs": [
    {
     "name": "stdout",
     "output_type": "stream",
     "text": [
      "Collecting hiveplot\n",
      "  Using cached hiveplot-2017.10.17.21.7-py2.py3-none-any.whl (6.4 kB)\n",
      "Requirement already satisfied: matplotlib>=2.0.0 in /opt/conda/lib/python3.8/site-packages (from hiveplot) (3.5.1)\n",
      "Collecting pycodestyle==2.3.1\n",
      "  Using cached pycodestyle-2.3.1-py2.py3-none-any.whl (45 kB)\n",
      "Requirement already satisfied: numpy>=1.17 in /opt/conda/lib/python3.8/site-packages (from matplotlib>=2.0.0->hiveplot) (1.22.4)\n",
      "Requirement already satisfied: fonttools>=4.22.0 in /opt/conda/lib/python3.8/site-packages (from matplotlib>=2.0.0->hiveplot) (4.31.2)\n",
      "Requirement already satisfied: packaging>=20.0 in /opt/conda/lib/python3.8/site-packages (from matplotlib>=2.0.0->hiveplot) (21.3)\n",
      "Requirement already satisfied: cycler>=0.10 in /opt/conda/lib/python3.8/site-packages (from matplotlib>=2.0.0->hiveplot) (0.11.0)\n",
      "Requirement already satisfied: pillow>=6.2.0 in /opt/conda/lib/python3.8/site-packages (from matplotlib>=2.0.0->hiveplot) (9.0.1)\n",
      "Requirement already satisfied: pyparsing>=2.2.1 in /opt/conda/lib/python3.8/site-packages (from matplotlib>=2.0.0->hiveplot) (3.0.7)\n",
      "Requirement already satisfied: python-dateutil>=2.7 in /opt/conda/lib/python3.8/site-packages (from matplotlib>=2.0.0->hiveplot) (2.8.2)\n",
      "Requirement already satisfied: kiwisolver>=1.0.1 in /opt/conda/lib/python3.8/site-packages (from matplotlib>=2.0.0->hiveplot) (1.4.2)\n",
      "Requirement already satisfied: six>=1.5 in /opt/conda/lib/python3.8/site-packages (from python-dateutil>=2.7->matplotlib>=2.0.0->hiveplot) (1.16.0)\n",
      "Installing collected packages: pycodestyle, hiveplot\n",
      "  Attempting uninstall: pycodestyle\n",
      "    Found existing installation: pycodestyle 2.9.1\n",
      "    Uninstalling pycodestyle-2.9.1:\n",
      "      Successfully uninstalled pycodestyle-2.9.1\n",
      "\u001b[31mERROR: pip's dependency resolver does not currently take into account all the packages that are installed. This behaviour is the source of the following dependency conflicts.\n",
      "autopep8 1.7.0 requires pycodestyle>=2.9.1, but you have pycodestyle 2.3.1 which is incompatible.\u001b[0m\n",
      "Successfully installed hiveplot-2017.10.17.21.7 pycodestyle-2.3.1\n",
      "Note: you may need to restart the kernel to use updated packages.\n"
     ]
    }
   ],
   "source": [
    "pip install hiveplot"
   ]
  },
  {
   "cell_type": "code",
   "execution_count": 3,
   "id": "4747732b-aca8-4f69-822e-f55de28b342e",
   "metadata": {},
   "outputs": [],
   "source": [
    "import networkx as nx\n",
    "import pandas as pd\n",
    "import numpy as np\n",
    "import matplotlib.pyplot as plt\n",
    "import sys\n",
    "import warnings\n",
    "from zlib import crc32\n",
    "warnings.filterwarnings(\"ignore\")\n",
    "%matplotlib inline\n",
    "import matplotlib.pyplot as plt\n",
    "import pandas as pd\n",
    "from zlib import crc32\n",
    "from hiveplot import HivePlot"
   ]
  },
  {
   "cell_type": "code",
   "execution_count": null,
   "id": "cf9f385a-e441-473d-a262-403a7693fafa",
   "metadata": {},
   "outputs": [
    {
     "name": "stdin",
     "output_type": "stream",
     "text": [
      "Enter amount of IP addresses:  11\n",
      "Enter hashed IP address:  222.165.219.225:8080\n",
      "Enter country name:  Indonesia\n",
      "Enter timestamp:  37.85004411\n",
      "Enter weight:  5\n"
     ]
    }
   ],
   "source": [
    "#get the amount of nodes to be ploted on hive plot\n",
    "num_nodes = int(input(\"Enter amount of IP addresses: \"))\n",
    "#create new lists to store nodes\n",
    "lst_nodes = []\n",
    "lst_time_source = []\n",
    "lst_time_country = []\n",
    "sort_source = []\n",
    "sort_country = []\n",
    "sort_time = []\n",
    "for i in range (0, num_nodes):\n",
    "    #get all data\n",
    "    getnode = input(\"Enter hashed IP address: \")\n",
    "    getcountry = input(\"Enter country name: \")\n",
    "    gettime = float(input(\"Enter timestamp: \"))\n",
    "    ask_weight = float(input(\"Enter weight: \"))\n",
    "    #functions that will convert str to float\n",
    "    def bytes_to_float(b):\n",
    "        return float(crc32(b) & 0xffffffff) / 2**32\n",
    "    def str_to_float(s, encoding=\"utf-8\"):\n",
    "        return bytes_to_float(s.encode(encoding))\n",
    "    \n",
    "    all_nodes = str_to_float(getnode),str_to_float(getcountry), ask_weight\n",
    "    time_source = gettime, str_to_float(getnode), ask_weight\n",
    "    time_country = gettime, str_to_float(getcountry), ask_weight\n",
    "    source_IP = str_to_float(getnode)\n",
    "    count_ry = str_to_float(getcountry)\n",
    "    ti_me = gettime\n",
    "    lst_nodes.append(all_nodes)\n",
    "    lst_time_source.append(time_source)\n",
    "    lst_time_country.append(time_country)\n",
    "    sort_source.append(source_IP)\n",
    "    sort_country.append(count_ry)\n",
    "    sort_time.append(ti_me)"
   ]
  },
  {
   "cell_type": "code",
   "execution_count": 5,
   "id": "ba55d16e-6b37-44a4-9d61-f3523538d4de",
   "metadata": {},
   "outputs": [],
   "source": [
    "# sorts lists\n",
    "source_ip_nodes = sorted(sort_source, key = float)\n",
    "country_ip_nodes = sorted(sort_country, key = float)\n",
    "time_ip_nodes = sorted(sort_time, key = float)"
   ]
  },
  {
   "cell_type": "code",
   "execution_count": 6,
   "id": "083b2796-ff50-4d70-96de-0134b521db7c",
   "metadata": {},
   "outputs": [],
   "source": [
    "#checks for duplicates in all lists\n",
    "sort_source_again = []\n",
    "for i in source_ip_nodes:\n",
    "    if i not in sort_source_again:\n",
    "        sort_source_again.append(i)\n",
    "    \n",
    "sort_country_again = []\n",
    "for i in country_ip_nodes:\n",
    "    if i not in sort_country_again:\n",
    "        sort_country_again.append(i)\n",
    "        \n",
    "sort_time_again = []\n",
    "for i in time_ip_nodes:\n",
    "    if i not in sort_time_again:\n",
    "        sort_time_again.append(i)"
   ]
  },
  {
   "cell_type": "code",
   "execution_count": 7,
   "id": "23eefb0f-a432-4f71-b470-4347cadd7956",
   "metadata": {},
   "outputs": [
    {
     "data": {
      "text/html": [
       "<div>\n",
       "<style scoped>\n",
       "    .dataframe tbody tr th:only-of-type {\n",
       "        vertical-align: middle;\n",
       "    }\n",
       "\n",
       "    .dataframe tbody tr th {\n",
       "        vertical-align: top;\n",
       "    }\n",
       "\n",
       "    .dataframe thead th {\n",
       "        text-align: right;\n",
       "    }\n",
       "</style>\n",
       "<table border=\"1\" class=\"dataframe\">\n",
       "  <thead>\n",
       "    <tr style=\"text-align: right;\">\n",
       "      <th></th>\n",
       "      <th>source IP</th>\n",
       "      <th>country</th>\n",
       "      <th>weight</th>\n",
       "    </tr>\n",
       "  </thead>\n",
       "  <tbody>\n",
       "    <tr>\n",
       "      <th>0</th>\n",
       "      <td>0.389821</td>\n",
       "      <td>0.189792</td>\n",
       "      <td>5.0</td>\n",
       "    </tr>\n",
       "    <tr>\n",
       "      <th>1</th>\n",
       "      <td>0.389821</td>\n",
       "      <td>0.189792</td>\n",
       "      <td>5.0</td>\n",
       "    </tr>\n",
       "    <tr>\n",
       "      <th>2</th>\n",
       "      <td>0.389821</td>\n",
       "      <td>0.189792</td>\n",
       "      <td>5.0</td>\n",
       "    </tr>\n",
       "    <tr>\n",
       "      <th>3</th>\n",
       "      <td>0.389821</td>\n",
       "      <td>0.189792</td>\n",
       "      <td>5.0</td>\n",
       "    </tr>\n",
       "    <tr>\n",
       "      <th>4</th>\n",
       "      <td>0.389821</td>\n",
       "      <td>0.189792</td>\n",
       "      <td>5.0</td>\n",
       "    </tr>\n",
       "    <tr>\n",
       "      <th>5</th>\n",
       "      <td>0.389821</td>\n",
       "      <td>0.189792</td>\n",
       "      <td>5.0</td>\n",
       "    </tr>\n",
       "    <tr>\n",
       "      <th>6</th>\n",
       "      <td>0.324833</td>\n",
       "      <td>0.867565</td>\n",
       "      <td>1.0</td>\n",
       "    </tr>\n",
       "    <tr>\n",
       "      <th>7</th>\n",
       "      <td>0.246933</td>\n",
       "      <td>0.000933</td>\n",
       "      <td>1.0</td>\n",
       "    </tr>\n",
       "  </tbody>\n",
       "</table>\n",
       "</div>"
      ],
      "text/plain": [
       "   source IP   country  weight\n",
       "0   0.389821  0.189792     5.0\n",
       "1   0.389821  0.189792     5.0\n",
       "2   0.389821  0.189792     5.0\n",
       "3   0.389821  0.189792     5.0\n",
       "4   0.389821  0.189792     5.0\n",
       "5   0.389821  0.189792     5.0\n",
       "6   0.324833  0.867565     1.0\n",
       "7   0.246933  0.000933     1.0"
      ]
     },
     "execution_count": 7,
     "metadata": {},
     "output_type": "execute_result"
    }
   ],
   "source": [
    "#using pandas - store data\n",
    "data = pd.DataFrame(np.c_[lst_nodes], columns=[\"source IP\",\"country\",\n",
    "\"weight\"])\n",
    "\n",
    "data"
   ]
  },
  {
   "cell_type": "code",
   "execution_count": 9,
   "id": "7450ce41-3a80-421c-b40e-af628ff728c2",
   "metadata": {},
   "outputs": [
    {
     "data": {
      "text/html": [
       "<div>\n",
       "<style scoped>\n",
       "    .dataframe tbody tr th:only-of-type {\n",
       "        vertical-align: middle;\n",
       "    }\n",
       "\n",
       "    .dataframe tbody tr th {\n",
       "        vertical-align: top;\n",
       "    }\n",
       "\n",
       "    .dataframe thead th {\n",
       "        text-align: right;\n",
       "    }\n",
       "</style>\n",
       "<table border=\"1\" class=\"dataframe\">\n",
       "  <thead>\n",
       "    <tr style=\"text-align: right;\">\n",
       "      <th></th>\n",
       "      <th>time</th>\n",
       "      <th>source IP</th>\n",
       "      <th>weight</th>\n",
       "    </tr>\n",
       "  </thead>\n",
       "  <tbody>\n",
       "    <tr>\n",
       "      <th>0</th>\n",
       "      <td>92.641528</td>\n",
       "      <td>0.389821</td>\n",
       "      <td>5.0</td>\n",
       "    </tr>\n",
       "    <tr>\n",
       "      <th>1</th>\n",
       "      <td>93.610719</td>\n",
       "      <td>0.389821</td>\n",
       "      <td>5.0</td>\n",
       "    </tr>\n",
       "    <tr>\n",
       "      <th>2</th>\n",
       "      <td>94.100200</td>\n",
       "      <td>0.389821</td>\n",
       "      <td>5.0</td>\n",
       "    </tr>\n",
       "    <tr>\n",
       "      <th>3</th>\n",
       "      <td>94.135310</td>\n",
       "      <td>0.389821</td>\n",
       "      <td>5.0</td>\n",
       "    </tr>\n",
       "    <tr>\n",
       "      <th>4</th>\n",
       "      <td>91.574936</td>\n",
       "      <td>0.389821</td>\n",
       "      <td>5.0</td>\n",
       "    </tr>\n",
       "    <tr>\n",
       "      <th>5</th>\n",
       "      <td>94.323903</td>\n",
       "      <td>0.389821</td>\n",
       "      <td>5.0</td>\n",
       "    </tr>\n",
       "    <tr>\n",
       "      <th>6</th>\n",
       "      <td>94.009833</td>\n",
       "      <td>0.324833</td>\n",
       "      <td>1.0</td>\n",
       "    </tr>\n",
       "    <tr>\n",
       "      <th>7</th>\n",
       "      <td>95.574843</td>\n",
       "      <td>0.246933</td>\n",
       "      <td>1.0</td>\n",
       "    </tr>\n",
       "  </tbody>\n",
       "</table>\n",
       "</div>"
      ],
      "text/plain": [
       "        time  source IP  weight\n",
       "0  92.641528   0.389821     5.0\n",
       "1  93.610719   0.389821     5.0\n",
       "2  94.100200   0.389821     5.0\n",
       "3  94.135310   0.389821     5.0\n",
       "4  91.574936   0.389821     5.0\n",
       "5  94.323903   0.389821     5.0\n",
       "6  94.009833   0.324833     1.0\n",
       "7  95.574843   0.246933     1.0"
      ]
     },
     "execution_count": 9,
     "metadata": {},
     "output_type": "execute_result"
    }
   ],
   "source": [
    "other_data = pd.DataFrame(np.c_[lst_time_source], columns=[\"time\",\"source IP\", \"weight\"])\n",
    "                                                           \n",
    "other_data"
   ]
  },
  {
   "cell_type": "code",
   "execution_count": 10,
   "id": "df5a1e5c-b240-4c99-b98f-36b52768bcb6",
   "metadata": {},
   "outputs": [
    {
     "data": {
      "text/html": [
       "<div>\n",
       "<style scoped>\n",
       "    .dataframe tbody tr th:only-of-type {\n",
       "        vertical-align: middle;\n",
       "    }\n",
       "\n",
       "    .dataframe tbody tr th {\n",
       "        vertical-align: top;\n",
       "    }\n",
       "\n",
       "    .dataframe thead th {\n",
       "        text-align: right;\n",
       "    }\n",
       "</style>\n",
       "<table border=\"1\" class=\"dataframe\">\n",
       "  <thead>\n",
       "    <tr style=\"text-align: right;\">\n",
       "      <th></th>\n",
       "      <th>time</th>\n",
       "      <th>country</th>\n",
       "      <th>weight</th>\n",
       "    </tr>\n",
       "  </thead>\n",
       "  <tbody>\n",
       "    <tr>\n",
       "      <th>0</th>\n",
       "      <td>92.641528</td>\n",
       "      <td>0.189792</td>\n",
       "      <td>5.0</td>\n",
       "    </tr>\n",
       "    <tr>\n",
       "      <th>1</th>\n",
       "      <td>93.610719</td>\n",
       "      <td>0.189792</td>\n",
       "      <td>5.0</td>\n",
       "    </tr>\n",
       "    <tr>\n",
       "      <th>2</th>\n",
       "      <td>94.100200</td>\n",
       "      <td>0.189792</td>\n",
       "      <td>5.0</td>\n",
       "    </tr>\n",
       "    <tr>\n",
       "      <th>3</th>\n",
       "      <td>94.135310</td>\n",
       "      <td>0.189792</td>\n",
       "      <td>5.0</td>\n",
       "    </tr>\n",
       "    <tr>\n",
       "      <th>4</th>\n",
       "      <td>91.574936</td>\n",
       "      <td>0.189792</td>\n",
       "      <td>5.0</td>\n",
       "    </tr>\n",
       "    <tr>\n",
       "      <th>5</th>\n",
       "      <td>94.323903</td>\n",
       "      <td>0.189792</td>\n",
       "      <td>5.0</td>\n",
       "    </tr>\n",
       "    <tr>\n",
       "      <th>6</th>\n",
       "      <td>94.009833</td>\n",
       "      <td>0.867565</td>\n",
       "      <td>1.0</td>\n",
       "    </tr>\n",
       "    <tr>\n",
       "      <th>7</th>\n",
       "      <td>95.574843</td>\n",
       "      <td>0.000933</td>\n",
       "      <td>1.0</td>\n",
       "    </tr>\n",
       "  </tbody>\n",
       "</table>\n",
       "</div>"
      ],
      "text/plain": [
       "        time   country  weight\n",
       "0  92.641528  0.189792     5.0\n",
       "1  93.610719  0.189792     5.0\n",
       "2  94.100200  0.189792     5.0\n",
       "3  94.135310  0.189792     5.0\n",
       "4  91.574936  0.189792     5.0\n",
       "5  94.323903  0.189792     5.0\n",
       "6  94.009833  0.867565     1.0\n",
       "7  95.574843  0.000933     1.0"
      ]
     },
     "execution_count": 10,
     "metadata": {},
     "output_type": "execute_result"
    }
   ],
   "source": [
    "this_data = pd.DataFrame(np.c_[lst_time_country], columns=[\"time\",\"country\", \"weight\"])\n",
    "this_data"
   ]
  },
  {
   "cell_type": "code",
   "execution_count": 11,
   "id": "f58d6651-1156-4b1a-8ec5-449d373ab1ec",
   "metadata": {},
   "outputs": [],
   "source": [
    "#creating edges\n",
    "directed_G = nx.DiGraph()\n",
    "for sIP, cty, wgt in data.values:\n",
    "    directed_G.add_edge(sIP, cty, weight=wgt)"
   ]
  },
  {
   "cell_type": "code",
   "execution_count": 12,
   "id": "59102a0b-7ac8-486e-a767-89e3af3f6427",
   "metadata": {},
   "outputs": [],
   "source": [
    "directed_G_other = nx.DiGraph()\n",
    "for sIP, ti, wgt in other_data.values:\n",
    "    directed_G_other.add_edge(ti, sIP, weight=wgt)"
   ]
  },
  {
   "cell_type": "code",
   "execution_count": 13,
   "id": "fdcde63d-fdf5-4cd3-a73e-829a0c120199",
   "metadata": {},
   "outputs": [],
   "source": [
    "directed_G_this = nx.DiGraph()\n",
    "for cty, ti, wgt in this_data.values:\n",
    "    directed_G_this.add_edge(ti,cty, weight=wgt)"
   ]
  },
  {
   "cell_type": "code",
   "execution_count": 14,
   "id": "52f3990b-ca72-4925-9098-bf3763436142",
   "metadata": {},
   "outputs": [],
   "source": [
    "#combine all nx.DiGraph()s\n",
    "t = nx.compose(directed_G,directed_G_other)\n",
    "b = nx.compose(t,directed_G_this)"
   ]
  },
  {
   "cell_type": "code",
   "execution_count": 15,
   "id": "c083dbfb-85b3-4689-b316-105c7759f0ec",
   "metadata": {},
   "outputs": [],
   "source": [
    "#adding nodes and edges to hive plot\n",
    "nodes = dict()\n",
    "nodes['Time'] = sort_time_again\n",
    "nodes['Source IP'] = sort_source_again\n",
    "nodes['Country'] = sort_country_again\n",
    "edges = dict()\n",
    "edges['all'] = directed_G.edges(data=True)\n",
    "edges['time-source'] = directed_G_other.edges(data=True)\n",
    "edges['time-country'] = directed_G_this.edges(data=True)\n",
    "nodes_cmap = dict()\n",
    "nodes_cmap['Source IP'] = 'red'\n",
    "nodes_cmap['Country'] = 'blue'\n",
    "nodes_cmap['Time'] = 'black'\n",
    "edges_cmap = dict()\n",
    "edges_cmap['all'] = 'green'\n",
    "edges_cmap['time-source'] = 'green'\n",
    "edges_cmap['time-country'] = 'green'"
   ]
  },
  {
   "cell_type": "code",
   "execution_count": 17,
   "id": "6157db39-15e0-40ea-981d-9f8e875a9765",
   "metadata": {},
   "outputs": [
    {
     "data": {
      "image/png": "[encoded data removed]",
      "text/plain": [
       "<Figure size 576x576 with 1 Axes>"
      ]
     },
     "metadata": {
      "needs_background": "light"
     },
     "output_type": "display_data"
    }
   ],
   "source": [
    "#Hive plot\n",
    "h = HivePlot(nodes=nodes, edges=edges, node_colormap=nodes_cmap, edge_colormap=edges_cmap)\n",
    "h.draw()"
   ]
  },
  {
   "cell_type": "code",
   "execution_count": null,
   "id": "890553be-b456-437a-ad16-7747eaa9ab30",
   "metadata": {},
   "outputs": [],
   "source": []
  }
 ],
 "metadata": {
  "kernelspec": {
   "display_name": "Python 3 (ipykernel)",
   "language": "python",
   "name": "python3"
  },
  "language_info": {
   "codemirror_mode": {
    "name": "ipython",
    "version": 3
   },
   "file_extension": ".py",
   "mimetype": "text/x-python",
   "name": "python",
   "nbconvert_exporter": "python",
   "pygments_lexer": "ipython3",
   "version": "3.8.13"
  },
  "widgets": {
   "application/vnd.jupyter.widget-state+json": {
    "state": {
     "0c0e2e07de92420a9b099c30a0854f2b": {
      "model_module": "@jupyter-widgets/base",
      "model_module_version": "1.2.0",
      "model_name": "LayoutModel",
      "state": {
       "margin": "0px 0px 10px 0px"
      }
     },
     "121f44203a3e465fae4dde33f180210b": {
      "model_module": "@jupyter-widgets/controls",
      "model_module_version": "1.5.0",
      "model_name": "DescriptionStyleModel",
      "state": {
       "description_width": ""
      }
     },
     "141227dbb42842ff9e40371881beab11": {
      "model_module": "@jupyter-widgets/controls",
      "model_module_version": "1.5.0",
      "model_name": "HTMLModel",
      "state": {
       "layout": "IPY_MODEL_82172ffc671a4a9f87c7d537ea47b7d7",
       "style": "IPY_MODEL_e057181e955547eabce1be44d1237f94",
       "value": "<h5>Status</h5>"
      }
     },
     "3a5245e6bb3c4b1eb3dbe1ed1493ecd1": {
      "model_module": "@jupyter-widgets/controls",
      "model_module_version": "1.5.0",
      "model_name": "DescriptionStyleModel",
      "state": {
       "description_width": ""
      }
     },
     "43f1995285f34dab8c5f94fa52e42ad6": {
      "model_module": "@jupyter-widgets/controls",
      "model_module_version": "1.5.0",
      "model_name": "HBoxModel",
      "state": {
       "children": [
        "IPY_MODEL_646297ff86664be4a0afb369d0ae8d62",
        "IPY_MODEL_49fcf93b2937435781e434fdd8a52360",
        "IPY_MODEL_141227dbb42842ff9e40371881beab11",
        "IPY_MODEL_7d1deaa4c34149e2983ac35672c2fba4",
        "IPY_MODEL_b321101b09034dc787a6335d9bd6dada"
       ],
       "layout": "IPY_MODEL_7010477a11064839acee8e9c58ba4c15"
      }
     },
     "49fcf93b2937435781e434fdd8a52360": {
      "model_module": "@jupyter-widgets/controls",
      "model_module_version": "1.5.0",
      "model_name": "HTMLModel",
      "state": {
       "layout": "IPY_MODEL_f240d20587834f428adcf44809c638d2",
       "style": "IPY_MODEL_3a5245e6bb3c4b1eb3dbe1ed1493ecd1",
       "value": "<h5>Backend</h5>"
      }
     },
     "4cb57ec1b3584429a770b1608c71ac09": {
      "model_module": "@jupyter-widgets/controls",
      "model_module_version": "1.5.0",
      "model_name": "GridBoxModel",
      "state": {
       "children": [
        "IPY_MODEL_f0a5e166dfd44289adb9619ba9681724"
       ],
       "layout": "IPY_MODEL_696bf8e5632b40b4b89309102e5596fc"
      }
     },
     "646297ff86664be4a0afb369d0ae8d62": {
      "model_module": "@jupyter-widgets/controls",
      "model_module_version": "1.5.0",
      "model_name": "HTMLModel",
      "state": {
       "layout": "IPY_MODEL_88ea71da7f144eb79cb983c0329cfae2",
       "style": "IPY_MODEL_121f44203a3e465fae4dde33f180210b",
       "value": "<h5>Job ID</h5>"
      }
     },
     "696bf8e5632b40b4b89309102e5596fc": {
      "model_module": "@jupyter-widgets/base",
      "model_module_version": "1.2.0",
      "model_name": "LayoutModel",
      "state": {
       "grid_template_areas": "\n                                       \". . . . right \"\n                                        ",
       "grid_template_columns": "20% 20% 20% 20% 20%",
       "width": "100%"
      }
     },
     "6af57c851e1e4853ae47c8316f399305": {
      "model_module": "@jupyter-widgets/controls",
      "model_module_version": "1.5.0",
      "model_name": "DescriptionStyleModel",
      "state": {
       "description_width": ""
      }
     },
     "7010477a11064839acee8e9c58ba4c15": {
      "model_module": "@jupyter-widgets/base",
      "model_module_version": "1.2.0",
      "model_name": "LayoutModel",
      "state": {
       "margin": "0px 0px 0px 37px",
       "width": "600px"
      }
     },
     "7d1deaa4c34149e2983ac35672c2fba4": {
      "model_module": "@jupyter-widgets/controls",
      "model_module_version": "1.5.0",
      "model_name": "HTMLModel",
      "state": {
       "layout": "IPY_MODEL_cb35f3748f664aaab4147fda5bfd8269",
       "style": "IPY_MODEL_6af57c851e1e4853ae47c8316f399305",
       "value": "<h5>Queue</h5>"
      }
     },
     "82172ffc671a4a9f87c7d537ea47b7d7": {
      "model_module": "@jupyter-widgets/base",
      "model_module_version": "1.2.0",
      "model_name": "LayoutModel",
      "state": {
       "width": "95px"
      }
     },
     "88ea71da7f144eb79cb983c0329cfae2": {
      "model_module": "@jupyter-widgets/base",
      "model_module_version": "1.2.0",
      "model_name": "LayoutModel",
      "state": {
       "width": "190px"
      }
     },
     "8d824a5e552c446e8e818f62a9a5cc5f": {
      "model_module": "@jupyter-widgets/base",
      "model_module_version": "1.2.0",
      "model_name": "LayoutModel",
      "state": {}
     },
     "96834f956a3b4c2a800bcfa915b1ff51": {
      "model_module": "@jupyter-widgets/controls",
      "model_module_version": "1.5.0",
      "model_name": "DescriptionStyleModel",
      "state": {
       "description_width": ""
      }
     },
     "b321101b09034dc787a6335d9bd6dada": {
      "model_module": "@jupyter-widgets/controls",
      "model_module_version": "1.5.0",
      "model_name": "HTMLModel",
      "state": {
       "layout": "IPY_MODEL_8d824a5e552c446e8e818f62a9a5cc5f",
       "style": "IPY_MODEL_fde501b55b0645a891e0de21f368fa9b",
       "value": "<h5>Message</h5>"
      }
     },
     "b7f04b3a4c114cefab770d26995ec12f": {
      "model_module": "@jupyter-widgets/base",
      "model_module_version": "1.2.0",
      "model_name": "LayoutModel",
      "state": {
       "grid_area": "right",
       "padding": "0px 0px 0px 0px",
       "width": "70px"
      }
     },
     "b883faf531254cf9bbdd6fee121388dc": {
      "model_module": "@jupyter-widgets/controls",
      "model_module_version": "1.5.0",
      "model_name": "HTMLModel",
      "state": {
       "layout": "IPY_MODEL_0c0e2e07de92420a9b099c30a0854f2b",
       "style": "IPY_MODEL_96834f956a3b4c2a800bcfa915b1ff51",
       "value": "<p style='font-family: IBM Plex Sans, Arial, Helvetica, sans-serif; font-size: 20px; font-weight: medium;'>Circuit Properties</p>"
      }
     },
     "cb35f3748f664aaab4147fda5bfd8269": {
      "model_module": "@jupyter-widgets/base",
      "model_module_version": "1.2.0",
      "model_name": "LayoutModel",
      "state": {
       "width": "70px"
      }
     },
     "e057181e955547eabce1be44d1237f94": {
      "model_module": "@jupyter-widgets/controls",
      "model_module_version": "1.5.0",
      "model_name": "DescriptionStyleModel",
      "state": {
       "description_width": ""
      }
     },
     "e17a23700bef4ef38bd515a21f368a5f": {
      "model_module": "@jupyter-widgets/controls",
      "model_module_version": "1.5.0",
      "model_name": "ButtonStyleModel",
      "state": {}
     },
     "f0a5e166dfd44289adb9619ba9681724": {
      "model_module": "@jupyter-widgets/controls",
      "model_module_version": "1.5.0",
      "model_name": "ButtonModel",
      "state": {
       "button_style": "primary",
       "description": "Clear",
       "layout": "IPY_MODEL_b7f04b3a4c114cefab770d26995ec12f",
       "style": "IPY_MODEL_e17a23700bef4ef38bd515a21f368a5f"
      }
     },
     "f240d20587834f428adcf44809c638d2": {
      "model_module": "@jupyter-widgets/base",
      "model_module_version": "1.2.0",
      "model_name": "LayoutModel",
      "state": {
       "width": "145px"
      }
     },
     "fde501b55b0645a891e0de21f368fa9b": {
      "model_module": "@jupyter-widgets/controls",
      "model_module_version": "1.5.0",
      "model_name": "DescriptionStyleModel",
      "state": {
       "description_width": ""
      }
     }
    },
    "version_major": 2,
    "version_minor": 0
   }
  }
 },
 "nbformat": 4,
 "nbformat_minor": 5
}
